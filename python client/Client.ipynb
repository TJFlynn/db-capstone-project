{
 "cells": [
  {
   "cell_type": "code",
   "execution_count": 1,
   "id": "0aafeda6-a06d-4bf3-88f1-36dba3ccb4b5",
   "metadata": {},
   "outputs": [
    {
     "name": "stdout",
     "output_type": "stream",
     "text": [
      "Requirement already satisfied: mysql-connector-python in c:\\users\\tflyn\\appdata\\local\\programs\\python\\python311\\lib\\site-packages (8.1.0)\n",
      "Requirement already satisfied: protobuf<=4.21.12,>=4.21.1 in c:\\users\\tflyn\\appdata\\local\\programs\\python\\python311\\lib\\site-packages (from mysql-connector-python) (4.21.12)\n"
     ]
    }
   ],
   "source": [
    "!pip install mysql-connector-python"
   ]
  },
  {
   "cell_type": "code",
   "execution_count": 2,
   "id": "95539ba2-f3e2-4fe1-a48f-cc7ba4464e95",
   "metadata": {},
   "outputs": [],
   "source": [
    "import mysql.connector as connector"
   ]
  },
  {
   "cell_type": "code",
   "execution_count": 3,
   "id": "c55d5051-7b4a-4ce0-950a-8c477c20e20f",
   "metadata": {},
   "outputs": [],
   "source": [
    "connection=connector.connect(user=\"user\",password=\"a1b2c3d4\", host=\"127.0.0.1\", auth_plugin=\"mysql_native_password\", db=\"littlelemon\")"
   ]
  },
  {
   "cell_type": "code",
   "execution_count": 4,
   "id": "2f0f52b7-85c2-48b9-a5d4-4c07db3320ef",
   "metadata": {},
   "outputs": [],
   "source": [
    "cursor = connection.cursor()\n",
    "show_tables_query = \"SHOW tables\" \n",
    "cursor.execute(show_tables_query)"
   ]
  },
  {
   "cell_type": "code",
   "execution_count": 5,
   "id": "f7f55f62-2013-4d03-a3e3-45ca6a4c9aa4",
   "metadata": {},
   "outputs": [],
   "source": [
    "names = cursor.fetchall()"
   ]
  },
  {
   "cell_type": "code",
   "execution_count": 6,
   "id": "f16cc6e1-2ac8-4cf9-8f9e-bd8756429a54",
   "metadata": {},
   "outputs": [
    {
     "name": "stdout",
     "output_type": "stream",
     "text": [
      "('bookings',)\n",
      "('customers',)\n",
      "('menuitems',)\n",
      "('menus',)\n",
      "('orders',)\n",
      "('orderstatus',)\n",
      "('ordersview',)\n",
      "('staff',)\n"
     ]
    }
   ],
   "source": [
    "for name in names:\n",
    "    print(name)"
   ]
  },
  {
   "cell_type": "code",
   "execution_count": 7,
   "id": "00a4a087-eea8-484c-85ed-b6009b044543",
   "metadata": {},
   "outputs": [],
   "source": [
    "cursor.execute(\"\"\"\n",
    "SELECT c.FullName, c.ContactNumber, c.Email\n",
    "FROM Customers AS c\n",
    "JOIN Orders AS o ON c.CustomerID = o.CustomerID\n",
    "WHERE o.TotalCost > 60;\n",
    "\"\"\")"
   ]
  },
  {
   "cell_type": "code",
   "execution_count": 8,
   "id": "af8b3702-1a95-4e90-92ad-8a4f7afcb6a6",
   "metadata": {},
   "outputs": [],
   "source": [
    "customer_names = cursor.fetchall()"
   ]
  },
  {
   "cell_type": "code",
   "execution_count": 9,
   "id": "e5f3e532-7f10-4255-8282-b7bd81287763",
   "metadata": {},
   "outputs": [
    {
     "name": "stdout",
     "output_type": "stream",
     "text": [
      "Customers with orders greater than $60\n",
      "Name : Anna Iverson\n",
      "Phone Number: 1231231234\n",
      "Email : Anna@example.com\n",
      "\n",
      "Name : Joakim Iversen\n",
      "Phone Number: 1231231234\n",
      "Email : Joakim@example.com\n",
      "\n"
     ]
    }
   ],
   "source": [
    "print(\"Customers with orders greater than $60\")\n",
    "for name in customer_names:\n",
    "    print(f'Name : {name[0]}')\n",
    "    print(f'Phone Number: {name[1]}')\n",
    "    print(f'Email : {name[2]}')\n",
    "    print()"
   ]
  },
  {
   "cell_type": "code",
   "execution_count": 10,
   "id": "1d3aae3a-72c1-4aee-94b7-8c96ee96f43f",
   "metadata": {},
   "outputs": [],
   "source": [
    "connection.close()"
   ]
  },
  {
   "cell_type": "code",
   "execution_count": null,
   "id": "be730587-d74f-40dd-8d30-61517f48480d",
   "metadata": {},
   "outputs": [],
   "source": []
  }
 ],
 "metadata": {
  "kernelspec": {
   "display_name": "Python 3 (ipykernel)",
   "language": "python",
   "name": "python3"
  },
  "language_info": {
   "codemirror_mode": {
    "name": "ipython",
    "version": 3
   },
   "file_extension": ".py",
   "mimetype": "text/x-python",
   "name": "python",
   "nbconvert_exporter": "python",
   "pygments_lexer": "ipython3",
   "version": "3.11.4"
  }
 },
 "nbformat": 4,
 "nbformat_minor": 5
}
